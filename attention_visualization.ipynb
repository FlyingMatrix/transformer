{
 "cells": [
  {
   "cell_type": "code",
   "execution_count": null,
   "id": "aea80208",
   "metadata": {},
   "outputs": [
    {
     "name": "stderr",
     "output_type": "stream",
     "text": [
      "c:\\Users\\Jingxin.Zhang\\AppData\\Local\\anaconda3\\envs\\nlp\\Lib\\site-packages\\tqdm\\auto.py:21: TqdmWarning: IProgress not found. Please update jupyter and ipywidgets. See https://ipywidgets.readthedocs.io/en/stable/user_install.html\n",
      "  from .autonotebook import tqdm as notebook_tqdm\n"
     ]
    }
   ],
   "source": [
    "import torch\n",
    "import torch.nn as nn\n",
    "from model import Transformer\n",
    "from config import get_config, get_weights_file_path\n",
    "from train import get_model, get_dataset, greedy_decode\n",
    "import pandas as pd\n",
    "import numpy as np\n",
    "import matplotlib.pyplot as plt\n",
    "import seaborn as sns\n",
    "\n",
    "import warnings\n",
    "warnings.filterwarnings(\"ignore\")"
   ]
  },
  {
   "cell_type": "code",
   "execution_count": 2,
   "id": "ed700b33",
   "metadata": {},
   "outputs": [
    {
     "name": "stdout",
     "output_type": "stream",
     "text": [
      "Using device: cuda\n"
     ]
    }
   ],
   "source": [
    "# define the device\n",
    "device = torch.device(\"cuda\" if torch.cuda.is_available() else \"cpu\")\n",
    "print(f\"Using device: {device}\")"
   ]
  },
  {
   "cell_type": "code",
   "execution_count": null,
   "id": "eae88121",
   "metadata": {},
   "outputs": [],
   "source": [
    "config = get_config()\n",
    "train_dataloader, valid_dataloader, vocab_src, vocab_tar = get_dataset(config)\n",
    "model = get_model(config, vocab_src.get_vocab_size(), vocab_tar.get_vocab_size()).to(device)"
   ]
  },
  {
   "cell_type": "code",
   "execution_count": null,
   "id": "cd1f798c",
   "metadata": {},
   "outputs": [],
   "source": [
    "# load the pretrained weights\n",
    "model_filename = get_weights_file_path(config, str(config['num_epochs']-1))\n",
    "state = torch.load(model_filename)\n",
    "model.load_state_dict(state['model_state_dict'])"
   ]
  },
  {
   "cell_type": "code",
   "execution_count": null,
   "id": "87d3a1d5",
   "metadata": {},
   "outputs": [],
   "source": [
    "def load_next_batch():\n",
    "    \n",
    "    batch = next(iter(valid_dataloader))\n",
    "    encoder_input = batch[\"encoder_input\"].to(device) # torch.tensor: (batch_size=1, seq_len)\n",
    "    encoder_mask = batch[\"encoder_mask\"].to(device) # torch.tensor: (batch_size=1, 1, 1, seq_len)\n",
    "    decoder_input = batch[\"decoder_input\"].to(device) # torch.tensor: (batch_size=1, seq_len)\n",
    "    decoder_mask = batch[\"decoder_mask\"].to(device) # torch.tensor: (batch_size=1, 1, seq_len, seq_len)\n",
    "    # for validation, the batch_size = 1\n",
    "\n",
    "    encoder_input_tokens = [vocab_src.id_to_token(idx) for idx in encoder_input[0].cpu().numpy()] # (seq_len)\n",
    "    decoder_input_tokens = [vocab_tar.id_to_token(idx) for idx in decoder_input[0].cpu().numpy()] # (seq_len)\n",
    "\n",
    "    # check if the batch_size for validation equals to 1\n",
    "    assert encoder_input.size(0) == 1, \"Batch size for validation must be 1 ...\"\n",
    "\n",
    "    model_output = greedy_decode(model, encoder_input, encoder_mask, vocab_src, vocab_tar, config[\"seq_len\"], device)\n",
    "\n",
    "    return batch, encoder_input_tokens, decoder_input_tokens, model_output"
   ]
  },
  {
   "cell_type": "code",
   "execution_count": null,
   "id": "4e86e4a7",
   "metadata": {},
   "outputs": [],
   "source": [
    "# convert a 2D matrix into a structured Pandas DataFrame, with added context from row_tokens and col_tokens\n",
    "def mtx2df(m, max_row, max_col, row_tokens, col_tokens):\n",
    "    \n",
    "    return pd.DataFrame(\n",
    "        [\n",
    "            (\n",
    "                r,\n",
    "                c,\n",
    "                float(m[r, c]),\n",
    "                \"%.3d %s\" % (r, row_tokens[r] if len(row_tokens) > r else \"<blank>\"),\n",
    "                \"%.3d %s\" % (c, col_tokens[c] if len(col_tokens) > c else \"<blank>\"),\n",
    "            )\n",
    "            for r in range(m.shape[0])\n",
    "            for c in range(m.shape[1])\n",
    "            if r < max_row and c < max_col\n",
    "        ],\n",
    "        columns=[\"row\", \"column\", \"value\", \"row_token\", \"col_token\"],\n",
    "    )"
   ]
  },
  {
   "cell_type": "code",
   "execution_count": null,
   "id": "bf4535c8",
   "metadata": {},
   "outputs": [],
   "source": [
    "def get_attention_map(attention_type: str, layer: int, head: int):\n",
    "    \n",
    "    \"\"\"\n",
    "        model:           Transformer\n",
    "        encoder:         Encoder\n",
    "        layers:          nn.ModuleList\n",
    "        Layers[layer]:   EncoderBlock\n",
    "        self_attention:  MultiHeadAttention\n",
    "        cross_attention: MultiHeadAttention\n",
    "        for class MultiHeadAttention, we have self.attention_scores\n",
    "    \"\"\"\n",
    "    if attention_type == \"encoder\":\n",
    "        attention = model.encoder.layers[layer].self_attention.attention_scores\n",
    "    elif attention_type == \"decoder\":\n",
    "        attention = model.decoder.layers[layer].self_attention.attention_scores\n",
    "    elif attention_type == \"encoder-decoder\":\n",
    "        attention = model.decoder.layers[layer].cross_attention.attention_scores # attention_scores -> (batch_size, num_head, seq_len, seq_len)\n",
    "    \n",
    "    return attention[0, head].detach() # return the attention map (a 2D matrix) with a shape of (seq_len, seq_len)"
   ]
  },
  {
   "cell_type": "code",
   "execution_count": null,
   "id": "cab9e658",
   "metadata": {},
   "outputs": [],
   "source": [
    "# visualize an attention map using matplotlib/seaborn\n",
    "def plot_attention_map(attention_type, layer, head, row_tokens, col_tokens, max_sentence_len):\n",
    "\n",
    "    \"\"\"\n",
    "    args:\n",
    "        attention_type (str)  : 'encoder', 'decoder', or 'encoder-decoder'\n",
    "        layer (int)           : layer index\n",
    "        head (int)            : head index\n",
    "        row_tokens (list[str]): list of tokens for y-axis (queries)\n",
    "        col_tokens (list[str]): list of tokens for x-axis (keys)\n",
    "        max_sentence_len (int): expected length of token sequences \n",
    "    \"\"\"\n",
    "\n",
    "    # get attention matrix\n",
    "    attention_matrix = get_attention_map(attention_type, layer, head)\n",
    "    # convert to numpy for plotting\n",
    "    attention = attention_matrix.cpu().numpy()\n",
    "\n",
    "    row_tokens = row_tokens[:max_sentence_len]\n",
    "    col_tokens = col_tokens[:max_sentence_len]\n",
    "\n",
    "    # plot attention map\n",
    "    fig, ax = plt.subplots(figsize=(8, 6))\n",
    "    sns.heatmap(attention, xticklabels=col_tokens, yticklabels=row_tokens, cmap=\"viridis\",\n",
    "                square=True, cbar=True, linewidths=0.5, linecolor='gray')\n",
    "    \n",
    "    ax.set_title(f\"Layer {layer} - Head {head} Attention Map\")\n",
    "    ax.set_xlabel(\"col_tokens\")\n",
    "    ax.set_ylabel(\"row_tokens\")\n",
    "    plt.xticks(rotation=45, ha=\"right\")\n",
    "    plt.yticks(rotation=0)\n",
    "    plt.tight_layout()\n",
    "    plt.show()"
   ]
  },
  {
   "cell_type": "code",
   "execution_count": null,
   "id": "b41db026",
   "metadata": {},
   "outputs": [],
   "source": [
    "# display a grid of attention maps\n",
    "def get_all_attention_maps(attention_type: str,\n",
    "                           layers: list[int],\n",
    "                           heads: list[int],\n",
    "                           row_tokens: list[str],\n",
    "                           col_tokens: list[str],\n",
    "                           max_sentence_len: int,\n",
    "                           figsize_per_plot=(4, 4),\n",
    "                           cmap=\"viridis\"):\n",
    "\n",
    "    if not layers or not heads:\n",
    "        raise ValueError(\"Both 'layers' and 'heads' lists must be non-empty.\")\n",
    "    \n",
    "    num_rows = len(layers)\n",
    "    num_cols = len(heads)\n",
    "    figsize = (figsize_per_plot[0] * num_cols, figsize_per_plot[1] * num_rows)\n",
    "\n",
    "    fig, axes = plt.subplots(num_rows, num_cols, figsize=figsize, squeeze=False)\n",
    "\n",
    "    for i, layer in enumerate(layers):\n",
    "        for j, head in enumerate(heads):\n",
    "            ax = axes[i, j]\n",
    "\n",
    "            # get attention map\n",
    "            attention = get_attention_map(attention_type, layer, head).detach().cpu().numpy()\n",
    "\n",
    "            row_tokens = row_tokens[:max_sentence_len]\n",
    "            col_tokens = col_tokens[:max_sentence_len]\n",
    "\n",
    "            # plot heatmap\n",
    "            sns.heatmap(attention, xticklabels=col_tokens, yticklabels=row_tokens, cmap=cmap,\n",
    "                        square=True, cbar=(j == num_cols-1), ax=ax, linewidths=0.5, linecolor='gray') # only last column has colorbar\n",
    "            ax.set_title(f\"L{layer} - H{head}\", fontsize=10)\n",
    "            ax.set_xlabel(\"\")\n",
    "            ax.set_ylabel(\"\")\n",
    "            ax.tick_params(axis='x', labelrotation=45)\n",
    "            ax.tick_params(axis='y', labelrotation=0)\n",
    "\n",
    "    plt.suptitle(f\"{attention_type.title()} Attention Maps\", fontsize=14) # set global title\n",
    "    plt.tight_layout(rect=[0, 0, 1, 0.97])\n",
    "    plt.show() "
   ]
  }
 ],
 "metadata": {
  "kernelspec": {
   "display_name": "nlp",
   "language": "python",
   "name": "python3"
  },
  "language_info": {
   "codemirror_mode": {
    "name": "ipython",
    "version": 3
   },
   "file_extension": ".py",
   "mimetype": "text/x-python",
   "name": "python",
   "nbconvert_exporter": "python",
   "pygments_lexer": "ipython3",
   "version": "3.11.13"
  }
 },
 "nbformat": 4,
 "nbformat_minor": 5
}
